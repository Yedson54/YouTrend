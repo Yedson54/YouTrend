{
 "cells": [
  {
   "cell_type": "markdown",
   "metadata": {},
   "source": [
    "# How to make prediction with the duration model "
   ]
  },
  {
   "cell_type": "code",
   "execution_count": 7,
   "metadata": {},
   "outputs": [
    {
     "ename": "ModuleNotFoundError",
     "evalue": "No module named 'youtrend'",
     "output_type": "error",
     "traceback": [
      "\u001b[1;31m---------------------------------------------------------------------------\u001b[0m",
      "\u001b[1;31mModuleNotFoundError\u001b[0m                       Traceback (most recent call last)",
      "Cell \u001b[1;32mIn[7], line 2\u001b[0m\n\u001b[0;32m      1\u001b[0m \u001b[38;5;28;01mimport\u001b[39;00m \u001b[38;5;21;01mos\u001b[39;00m\n\u001b[1;32m----> 2\u001b[0m \u001b[38;5;28;01mfrom\u001b[39;00m \u001b[38;5;21;01myoutrend\u001b[39;00m\u001b[38;5;21;01m.\u001b[39;00m\u001b[38;5;21;01mduration_model\u001b[39;00m\u001b[38;5;21;01m.\u001b[39;00m\u001b[38;5;21;01mmake_prediction\u001b[39;00m \u001b[38;5;28;01mimport\u001b[39;00m (\n\u001b[0;32m      3\u001b[0m     survival_probability, \n\u001b[0;32m      4\u001b[0m     plot_survival_probability,\n\u001b[0;32m      5\u001b[0m     plot_survival_probabilities_by_group\n\u001b[0;32m      6\u001b[0m )\n",
      "\u001b[1;31mModuleNotFoundError\u001b[0m: No module named 'youtrend'"
     ]
    }
   ],
   "source": [
    "import os\n",
    "from youtrend.duration_model.make_prediction import (\n",
    "    survival_probability, \n",
    "    plot_survival_probability,\n",
    "    plot_survival_probabilities_by_group\n",
    ")"
   ]
  },
  {
   "cell_type": "code",
   "execution_count": 9,
   "metadata": {},
   "outputs": [
    {
     "name": "stdout",
     "output_type": "stream",
     "text": [
      "['d:\\\\Documents\\\\YouTrend\\\\YouTrend\\\\demos', 'D:\\\\Program Files\\\\Python310\\\\python310.zip', 'D:\\\\Program Files\\\\Python310\\\\DLLs', 'D:\\\\Program Files\\\\Python310\\\\lib', 'D:\\\\Program Files\\\\Python310', 'd:\\\\Documents\\\\YouTrend\\\\YouTrend\\\\.venv', '', 'd:\\\\Documents\\\\YouTrend\\\\YouTrend\\\\.venv\\\\lib\\\\site-packages', 'd:\\\\Documents\\\\YouTrend\\\\YouTrend\\\\.venv\\\\lib\\\\site-packages\\\\win32', 'd:\\\\Documents\\\\YouTrend\\\\YouTrend\\\\.venv\\\\lib\\\\site-packages\\\\win32\\\\lib', 'd:\\\\Documents\\\\YouTrend\\\\YouTrend\\\\.venv\\\\lib\\\\site-packages\\\\Pythonwin']\n",
      "d:\\Documents\\YouTrend\\YouTrend\\demos\n"
     ]
    }
   ],
   "source": [
    "import sys\n",
    "print(sys.path)\n",
    "print(os.getcwd())"
   ]
  }
 ],
 "metadata": {
  "kernelspec": {
   "display_name": ".venv",
   "language": "python",
   "name": "python3"
  },
  "language_info": {
   "codemirror_mode": {
    "name": "ipython",
    "version": 3
   },
   "file_extension": ".py",
   "mimetype": "text/x-python",
   "name": "python",
   "nbconvert_exporter": "python",
   "pygments_lexer": "ipython3",
   "version": "3.10.11"
  }
 },
 "nbformat": 4,
 "nbformat_minor": 2
}

{
 "cells": [
  {
   "cell_type": "markdown",
   "id": "7b3faa50-1f4c-47d7-9517-714277bd4aca",
   "metadata": {},
   "source": [
    "# DESCRIPTION \n",
    "DU MODEL DE DUREE SUR LES VIDEOS YOUTUBES EN TENDANCES"
   ]
  },
  {
   "cell_type": "markdown",
   "id": "7f6f22f5-9e0f-4281-b177-d6228fb3b19c",
   "metadata": {},
   "source": [
    "# Introduction\n",
    "Dans cette etude, nous  nous sommes données comme missions de trouver un moyen simple et fiable qui  allait nous permettre d'estimer  la date-une probabilité en pratique-  pour laquelle une video partagée sur youtube serait potentiellement en tendance. Le moyen le plus commode et le plus proche de ce qu'on a fait à l'ENSAE consister à utiliser l'approche des modèles de durée.\n",
    "# 1)Présentation de l'approche des modèles de durée\n",
    "Les modéles de durée sont une  famille  d'approche  de la  modelisation statistique  et l'un de leur utilisation les plus répendus  est la modélisation de la durée passéd dans un état . \n",
    "L'exemple typique est la modélisation de la durée de chomage  d'un individu. Il existe principalement trois grandessous familles  de modèle de durèe à savoir les modeles non parametrique, les modeles semi-parametriques et les parametriques avec chacune ses avantages et ses limites. cependant independamment du type de modelisation utilisée, il n'est pas possible de passer sur les notations et l'hypothése suivante:\n",
    "## hypothse:\n",
    "le temps d'apparition de l'evenement- disons le temps à laquelle la personne trouve un emploi dans l'exmple type sera modélisé comme une variable alèatoire positive,de fonction de répartition F et souvent notée par $T$.\n",
    "## Notations et définitions:\n",
    "On note généralement par $t$ la variable réelle positive qui mesure une durrée\n",
    "### Fonction de surive : S\n",
    "$ S(t)= P (T<t)=1-F(t)$.\n",
    "\n",
    "$S(t)$ est la probalité pour qu'une video ne soit jamais rentrée en tendance pendant t jours depuis sa premiere publication\n",
    "### Taux de Hasard : $\\lambda$\n",
    "\n",
    "$\\lambda(t)=\\lim_{{dt \\to 0}} \\frac{P(t<=T<t+df|T>=t)}{dt} \\ $\n",
    "\n",
    "$\\lambda(t)$ est la probabilite  avec laquelle une video qui n'a jamais étais en tendanec jusqu'à une tendance entre en tendance entré en tenddance.\n",
    "### la fonction de hasard cumulative\n",
    "$ I(t)= \\int_{0}^{t} \\lambda(u)\\,du $.\n",
    "\n",
    "Par souci de simplication et par souci de se conforme avec ce qui se fait en pratique, nous avons opté de n'utiliser dans la modélisation que les modéles paramètriques. Cependant afin d'avoir une vision globale de la probabilité de survie sur l'ensemble de notre dataset d'étude, nous avons,au debut de notre etude , commencé par implémenté le modéle de KAPLAN MEIER -qui est l'un des modéles non-paramétriques les plus utilisés dans la pratique.\n",
    "### Relation entre S et $\\lambda$:\n",
    "On montre et on a:\n",
    "$ S(t) =\\exp(\\int_{0}^{t} \\lambda(u)\\,du )$\n",
    "\n",
    "$ \\lambda(t)=\\frac{-S^{'}(t)}{S(t)}$\n",
    "\n",
    "Ainsi donc en connaissant \\lambda(t) pour chaque valeur , on peut retrouver la vraie spécification F et inversement aussi S(t) determine entiérement $\\lambda(t)$.\n",
    "\n",
    "La fome générale des modèles parametriques s'ecrit commme suit :\n",
    "$ \\lambda(t)={\\lambda}_{0}(t)\\phi(x)$ où le plus souvent on prend $\\phi(x)=\\exp(x^{'}\\beta) $\n",
    "x est le vecteur des covariates et \\beta est un parametre à estimer par Maximisation de la vraisemblance du modèle\n",
    "\n",
    "##  Presentation du dataset\n",
    "Dans ce projet, nous avons utiliser  des modéles parametriques de durrée   afin d'estimer   la probilité avec laquelle une video youtube publiquée à une certain date a la chance d'entrée en tendance ultérieurement.\n",
    "Nous considérons un ensemble de plusieurs videos youtubes obtenues à partir de l'API Youtube que l'on stocke sur un dataframe. Chaque video est représeneté  par   différentes caractéristques suivantes :sa durée , sa date de publication , sa catégorie, ect.\n",
    "Cependant pour pouvoir ajuster un modele de durée sur ce base de données, nous avons fait  des hypothéses supplémentaires  afin que les données soient adaptées à l'ensemble de instance de model de durrée que nous avons utilisé dans la partie de Building Model\n",
    "### Hypothse 1\n",
    "Nous supposons avoir suivie chaque video depuis sa date de publication. Cette hypothése est realiste en effet dans le futer on pourrait bien sûr suivre n'importe qu'elle   vidoe .\n",
    "L'interet de cette hypothése est de limiter les problémes de censurés etplus particuliérement ,ici le probleme de censurée à gauche.\n",
    "une ligne sera dite censuréé à gauche si nous ne savons pas sa date de publication et une ligne sera dite censuré à droite si pendant la periode à laquelle on a suivie la video correspondante , on n' a pas observé cette video dans l'ensemblde des videos en tendance sur toute la peridode d'etude et on ne sait pas cette vrai date \n",
    "### Hypothése 2:\n",
    "On prend une date de fin d'etude de sorte à avoir  quelques vidéos censurées à droite dans notre bases de données sinon , on ne pourrait pas fitter nos instances de modéle sur notre dataframe. \n",
    "# Bulding model and choice\n",
    "Le model final est sélection de la façon suivante:\n",
    "1)Premièrement, on  fait une validation croisée avec le model Weibull puis on garde le modéle qui  minimise la Log-Vraisemble. Pareillement, on fait la même chose pour les modéles LogNormales et LogLogistqiues\n",
    "2) On prend comme modéle final , le best des best.\n",
    "Ci-dessous, nous avons la parametrisations de la fonction de hasard et le LogVraisemble du modele  pour le model de Weibbull\n",
    "\n",
    "$\\lambda(t)=\\alpha{t^{\\alpha-1}}\\exp(x^{T}\\beta) $\n",
    "\n",
    "$ l_{n}(x,\\alpha,\\beta)=\\prod_{i=1}^{n} {\\lambda(t_{i},x_{i})}^{\\delta_{i}}(S(t_{i},x_{i})^{1-\\delta_{i}}) \\ $ où $ \\delta_{i}=0 $\n",
    "qui signifie que la donnée correspondante est censurée à droite et 1 sinon. La maximisation de la log-vraisemblance permet de trouver les valeurs optimales pour nos différentes paramétres \\alpha, \\beta\n",
    "Interpretation des des paramétres dans le cas du model de Weibull\n",
    "### Pour $\\alpha$:\n",
    "1) si $\\alpha >1$ alors il ya une dependance temporelle positive c'est à dire que plus la date de publication est loin , moins une video à la chance d'entré en tendance à date donnée\n",
    "2) si $alpha=1$ alors il n'a aucune dependance temporelle c'est à dire que la probabilité d'entrée en tendance est constante au cours du temps\n",
    "3) si $alpha <0$ alors il ya une dependance négative\n",
    "### 4) POur $\\beta$:\n",
    "Dans les modéles paramétriques les coefficients devants les covariables captures l'effet de la des covariates sur la probabilité de survie\n",
    "Pour une variable continue, comme le duréé de la video, le paramétre correspond s'interprete comme suit: une hausse d'une unique de x_{i} augemente la proba d'entrée entendane de $(\\exp(\\beta_{i})-1)$\n",
    "### OUtputs final \n",
    "Comme sortie de notre algorithme, nous avons retenu:\n",
    "### 1)la probailité  de survie:\n",
    " Pour une vidéo publiée sur youtube, calculer sa probabilité qu'elle soit en tendance à une date t fournie par l'utilisater.\n",
    "2) Plotter la fonction de survie\n",
    "Tracer la fonction de survie pour une video quelconque \n",
    "### 3)  Courbe de KAPLAN MEIER\n",
    "Afficher le plot de la fonction de survie forunie par le modéle de KAPLAN MAIER -modlèle qui est utilisé sur  l'ensemble de dataste d'entréé -selon les jours de la semaines mais aussi selon les la categorie de la video  vidoes\n"
   ]
  },
  {
   "cell_type": "code",
   "execution_count": null,
   "id": "0b639883-8204-44c4-84bf-bedeb12a3745",
   "metadata": {},
   "outputs": [],
   "source": []
  },
  {
   "cell_type": "code",
   "execution_count": null,
   "id": "3be45c07-7d6e-461b-99bf-f61dc2182c0b",
   "metadata": {},
   "outputs": [],
   "source": []
  }
 ],
 "metadata": {
  "kernelspec": {
   "display_name": "Python 3 (ipykernel)",
   "language": "python",
   "name": "python3"
  },
  "language_info": {
   "codemirror_mode": {
    "name": "ipython",
    "version": 3
   },
   "file_extension": ".py",
   "mimetype": "text/x-python",
   "name": "python",
   "nbconvert_exporter": "python",
   "pygments_lexer": "ipython3",
   "version": "3.10.13"
  }
 },
 "nbformat": 4,
 "nbformat_minor": 5
}
